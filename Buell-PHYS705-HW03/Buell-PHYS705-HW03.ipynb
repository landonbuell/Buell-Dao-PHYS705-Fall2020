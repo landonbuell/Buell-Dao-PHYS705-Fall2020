{
 "cells": [
  {
   "cell_type": "markdown",
   "metadata": {},
   "source": [
    "### PHYS 705.01 - Fall 2020\n",
    "### Homework 03\n",
    "### Landon Buell\n",
    "### 21 September 2020"
   ]
  },
  {
   "cell_type": "code",
   "execution_count": 1,
   "metadata": {},
   "outputs": [],
   "source": [
    "#### IMPORTS ####\n",
    "\n",
    "import numpy as np\n",
    "import matplotlib.pyplot as plt\n",
    "import scipy.optimize as opt"
   ]
  },
  {
   "cell_type": "markdown",
   "metadata": {},
   "source": [
    "### Question 1 \n",
    "The table lists the channel numbers $x$ and $\\Delta x$, obtained by fitting Gaussiands to photopeaks of known energues E."
   ]
  },
  {
   "cell_type": "code",
   "execution_count": 2,
   "metadata": {},
   "outputs": [],
   "source": [
    "#### RAW DATA PROVIDED ####\n",
    "\n",
    "x = np.array([354.588,646.387,1055.096,716.784,810.951,413.66,519.326,323.637,779.143])\n",
    "dx = np.array([0.039,0.035,0.403,0.129,0.096,0.036,0.042,0.073,0.068])\n",
    "E = np.array([569.70,1063.66,1770.24,1173.24,1332.50,661.66,834.86,511.02,1274.54])"
   ]
  },
  {
   "cell_type": "markdown",
   "metadata": {},
   "source": [
    "#### Part A)\n",
    "Fit a straight line, s.t. $E = A + Bx$ to this data set. What are the best values for the paramaters $A$ and $B$?"
   ]
  },
  {
   "cell_type": "code",
   "execution_count": 3,
   "metadata": {},
   "outputs": [],
   "source": [
    "class LinearRegressor :\n",
    "    \"\"\" Linear Regression class \"\"\"\n",
    "    \n",
    "    def __init__(self,x,y):\n",
    "        \"\"\" Intialize LinearRegressor Instance \"\"\"\n",
    "        self.x = x\n",
    "        self.y = y\n",
    "        self.avgX = np.mean(self.x)\n",
    "        self.avgY = np.mean(self.y)\n",
    "        \n",
    "    def ComputeSlope(self):\n",
    "        \"\"\" Compute Degree 1 Coefficient \"\"\"\n",
    "        _a = np.sum((self.x - self.avgX) * (self.y - self.avgY))\n",
    "        _b = np.sum((self.x - self.avgX)**2)\n",
    "        self.slope = _a/_b\n",
    "        return self.slope\n",
    "        \n",
    "    def ComputeIntercept(self):\n",
    "        \"\"\" Compute Degree 0 Coefficient \"\"\"\n",
    "        self.intercept = self.avgY - (self.slope * self.avgX)\n",
    "        return self.intercept"
   ]
  },
  {
   "cell_type": "code",
   "execution_count": 9,
   "metadata": {
    "scrolled": true
   },
   "outputs": [
    {
     "name": "stdout",
     "output_type": "stream",
     "text": [
      "Best value for A = -44.337084200344066\n",
      "Best value for B = 1.7066164038476765\n"
     ]
    }
   ],
   "source": [
    "# Use Regression Class Above \n",
    "EnergyFit = LinearRegressor(x=x,y=E)\n",
    "B = EnergyFit.ComputeSlope()\n",
    "A = EnergyFit.ComputeIntercept()\n",
    "\n",
    "# Print Results\n",
    "print(\"Best value for A =\",A)\n",
    "print(\"Best value for B =\",B)"
   ]
  },
  {
   "cell_type": "code",
   "execution_count": 12,
   "metadata": {},
   "outputs": [
    {
     "name": "stdout",
     "output_type": "stream",
     "text": [
      "4247754.643736001\n",
      "Uncertainty in A = 8.635145306757664\n",
      "Uncertainty in B = 0.01298389073188239\n"
     ]
    }
   ],
   "source": [
    "# Compute Uncertainty\n",
    "dx_avg = np.mean(dx)\n",
    "rad = 0\n",
    "for i in range(len(x)):\n",
    "    rad += (E[i] - A - B*x[i])**2\n",
    "    \n",
    "uncertaintyE = np.sqrt(1/(len(x)-2) * rad)\n",
    "\n",
    "radA,sumXsq = 0,0\n",
    "for i in range(len(x)):\n",
    "    radA +=  (x[i]**2)\n",
    "    sumXsq += (x[i]**2)\n",
    "    \n",
    "delta = len(x) * sumXsq - np.sum(x)**2\n",
    "uncertaintyA = uncertaintyE * np.sqrt(radA/delta)\n",
    "uncertaintyB = uncertaintyE * np.sqrt(len(x)/delta)\n",
    "    \n",
    "print(\"Uncertainty in A =\",uncertaintyA)\n",
    "print(\"Uncertainty in B =\",uncertaintyB)\n"
   ]
  },
  {
   "cell_type": "markdown",
   "metadata": {},
   "source": [
    "The best value for $A$ is given by $-44.34 \\pm 8.64$ and the best value for $B$ is given by $1.71 \\pm 0.01$. \n",
    "$A$ has units of energy, [keV] and $B$ has units of energy per channel [keV/ch] - assumine $x$ has units of \"channel\"?"
   ]
  },
  {
   "cell_type": "markdown",
   "metadata": {},
   "source": [
    "#### Part B)\n",
    "Compare your values to those obtained from a linear fitting routine in Python (Thats here!)"
   ]
  },
  {
   "cell_type": "code",
   "execution_count": 18,
   "metadata": {},
   "outputs": [
    {
     "name": "stdout",
     "output_type": "stream",
     "text": [
      "Best value for A = -44.337083000673495\n",
      "Best value for B = 1.7066164010557967\n"
     ]
    }
   ],
   "source": [
    "def LinearFit (x,A,B):\n",
    "    \"\"\" Produce Linear Fit Hypothesis Function \"\"\"\n",
    "    return A + B*x\n",
    "\n",
    "optVals,optCov = opt.curve_fit(LinearFit,xdata=x,ydata=E,p0=[-44,2])\n",
    "\n",
    "# Print Results\n",
    "print(\"Best value for A =\",optVals[0])\n",
    "print(\"Best value for B =\",optVals[1])"
   ]
  },
  {
   "cell_type": "markdown",
   "metadata": {},
   "source": [
    "Using the \"scipy.optimizer.curve_fit()\" function, with a linear fit hypothesis space, we arrive at a similar conclusion for the best possible values of $A$ and $B$, being $-44.34$ and $1.71$ respectively."
   ]
  },
  {
   "cell_type": "markdown",
   "metadata": {},
   "source": [
    "#### Part C)\n",
    "We observe an \"unknown\" photopeak at $x_\\mu = 688.0 \\pm 1.2$. Use the results fro, part A to determine it's Energy, $E_\\mu$ and error."
   ]
  },
  {
   "cell_type": "code",
   "execution_count": 21,
   "metadata": {},
   "outputs": [
    {
     "name": "stdout",
     "output_type": "stream",
     "text": [
      "Prediction for E = 1129.8150016468576 [KeV]\n",
      "Prediction error for E = 17.799808962780517 [KeV]\n"
     ]
    }
   ],
   "source": [
    "# We use the Linear Fit Hypothesis\n",
    "x_mu = 688.0\n",
    "dx_mu = 1.2\n",
    "E_mu = LinearFit(x_mu,A,B)\n",
    "\n",
    "# Compute Uncertainty\n",
    "errorVector = np.sqrt((uncertaintyB/B)**2 + (dx_mu/x_mu)**2) \n",
    "uncertaintyE_mu = uncertaintyA + B * x_mu * errorVector\n",
    "\n",
    "# Print results\n",
    "print(\"Prediction for E =\",E_mu,\"[KeV]\")\n",
    "print(\"Prediction error for E =\",uncertaintyE_mu,\"[KeV]\")"
   ]
  },
  {
   "cell_type": "markdown",
   "metadata": {},
   "source": [
    "#### Part D)\n",
    "The Error in Part (c) is unreasonably large. We can reduce it by rewriting the function use for calibration. We instead choose\n",
    "$E = A' + B'(x-x_0)$ to fit with data. We use $x_0 = 0, 100, 200, ..., 1100$. What do we observe? Which value of $x_0$ results in the most precise calibration? Use this to recalculate $E_\\mu$. "
   ]
  },
  {
   "cell_type": "code",
   "execution_count": null,
   "metadata": {},
   "outputs": [],
   "source": [
    "def ModifiedLinearFit (x,x0,A,B):\n",
    "    \"\"\" Produce Modofied Linear Fit Hypothesis Function \"\"\"\n",
    "    return A + B*(x - x0)"
   ]
  },
  {
   "cell_type": "markdown",
   "metadata": {},
   "source": [
    "### Question 2\n",
    "Show that errors should be added in quadrature by adding two Gaussians and examining the resulting distribution: add a Gaussian centered at $x$ with wdith $\\sigma_x$ to a Gaussian centered at $y$ with width $\\sigma_y$. Show resulting distribution has width of $\\sqrt{\\sigma_x^2 + \\sigma_y^2}$."
   ]
  },
  {
   "cell_type": "markdown",
   "metadata": {},
   "source": [
    "#### The general form of a normalized Gaussian function over the domain $r$ is given by:\n",
    "$ N(\\mu,\\sigma) = \\frac{1}{\\sqrt{2\\pi \\sigma_r^2}} e^{-\\frac{(r-\\mu)^2}{2\\sigma^2}} $\n",
    "\n",
    "Thus for the above condition over the domain $r$, we have the sum of the two distributions:\n",
    "$ N(x,\\sigma_x) + N(y,\\sigma_y)$\n",
    "is given by:\n",
    "\n",
    "$\\frac{1}{\\sqrt{2\\pi \\sigma_x^2}} e^{-\\frac{(r-x)^2}{2\\sigma_x^2}} + \n",
    "    \\frac{1}{\\sqrt{2\\pi \\sigma_y^2}} e^{-\\frac{(r-y)^2}{2\\sigma_y^2}}$\n",
    "The uncertainty in each is given by $\\sigma_x$ or $\\sigma_y$"
   ]
  },
  {
   "cell_type": "markdown",
   "metadata": {},
   "source": [
    "### Question 3\n",
    "Let $f(a,b)$ be a product of the parameters to some power, $f(a,b,c) = a^m b^n c^p$.\n",
    "\n",
    "#### Part A) \n",
    "Show that the relatice uncertainity of $f$ is given by:\n",
    "$ \\big(\\frac{\\Delta f}{f}\\big)^2 = \\big(m\\frac{\\Delta a}{a}\\big)^2 + \n",
    "\\big(n\\frac{\\Delta b}{b}\\big)^2 + \\big(p\\frac{\\Delta c}{c}\\big)^2 $"
   ]
  },
  {
   "cell_type": "markdown",
   "metadata": {},
   "source": [
    "From uncertainties in multiplication, we know the following relationship holds:\n",
    "\n",
    "$\\frac{\\Delta f}{f}  = \\sqrt{\\frac{\\Delta a}{a} + \\frac{\\Delta b}{b} + \\frac{\\Delta c}{c}}$\n",
    "\n",
    "as also shown in the question above. From exponentiation, such as $ f(a) = a^m$, we also know:\n",
    "\n",
    "$\\frac{\\Delta f}{f} = |m|\\frac{\\Delta x}{x}$\n",
    "\n",
    "Thus combing the two uncertainties resulting from the multiplication of exponentiation results in:\n",
    "\n",
    "$ \\big(\\frac{\\Delta f}{f}\\big) = \\sqrt{ \\big(m\\frac{\\Delta a}{a}\\big)^2 + \n",
    "\\big(n\\frac{\\Delta b}{b}\\big)^2 + \\big(p\\frac{\\Delta c}{c}\\big)^2 }$\n",
    "\n",
    "or\n",
    "\n",
    "$ \\big(\\frac{\\Delta f}{f}\\big)^2 = \\big(m\\frac{\\Delta a}{a}\\big)^2 + \n",
    "\\big(n\\frac{\\Delta b}{b}\\big)^2 + \\big(p\\frac{\\Delta c}{c}\\big)^2 $"
   ]
  },
  {
   "cell_type": "markdown",
   "metadata": {},
   "source": [
    "#### Part B)\n",
    "Demonstate that this relation enable s quick estimate if $m = n = p$ or at least approximately equal, and one parameter has a much larger relative error than the others."
   ]
  },
  {
   "cell_type": "code",
   "execution_count": null,
   "metadata": {},
   "outputs": [],
   "source": []
  }
 ],
 "metadata": {
  "kernelspec": {
   "display_name": "Python 3",
   "language": "python",
   "name": "python3"
  },
  "language_info": {
   "codemirror_mode": {
    "name": "ipython",
    "version": 3
   },
   "file_extension": ".py",
   "mimetype": "text/x-python",
   "name": "python",
   "nbconvert_exporter": "python",
   "pygments_lexer": "ipython3",
   "version": "3.8.3"
  }
 },
 "nbformat": 4,
 "nbformat_minor": 4
}
